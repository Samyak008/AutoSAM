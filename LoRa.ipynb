{
  "nbformat": 4,
  "nbformat_minor": 0,
  "metadata": {
    "colab": {
      "provenance": [],
      "gpuType": "V28",
      "authorship_tag": "ABX9TyPz7sHuAYkhDrIFFE9iChNY",
      "include_colab_link": true
    },
    "kernelspec": {
      "name": "python3",
      "display_name": "Python 3"
    },
    "language_info": {
      "name": "python"
    },
    "accelerator": "TPU"
  },
  "cells": [
    {
      "cell_type": "markdown",
      "metadata": {
        "id": "view-in-github",
        "colab_type": "text"
      },
      "source": [
        "<a href=\"https://colab.research.google.com/github/Samyak008/AutoSAM/blob/main/LoRa.ipynb\" target=\"_parent\"><img src=\"https://colab.research.google.com/assets/colab-badge.svg\" alt=\"Open In Colab\"/></a>"
      ]
    },
    {
      "cell_type": "code",
      "execution_count": null,
      "metadata": {
        "colab": {
          "base_uri": "https://localhost:8080/"
        },
        "id": "xPxmzHWWHOc_",
        "outputId": "86f26c3d-5353-48e4-dfce-f79cc2820121"
      },
      "outputs": [
        {
          "output_type": "stream",
          "name": "stdout",
          "text": [
            "Hello Teeny tiny Hooman\n"
          ]
        }
      ],
      "source": [
        "print(\"Hello Teeny tiny Hooman\")"
      ]
    },
    {
      "cell_type": "code",
      "source": [
        "print(\"Namaste\")"
      ],
      "metadata": {
        "id": "mEGPbysqLqvm",
        "colab": {
          "base_uri": "https://localhost:8080/"
        },
        "outputId": "68f3ba36-69be-499c-91aa-91dce964c3ae"
      },
      "execution_count": 1,
      "outputs": [
        {
          "output_type": "stream",
          "name": "stdout",
          "text": [
            "Namaste\n"
          ]
        }
      ]
    },
    {
      "cell_type": "code",
      "source": [
        "print(\"phewww!!! Dataset collection is complete\")"
      ],
      "metadata": {
        "colab": {
          "base_uri": "https://localhost:8080/"
        },
        "id": "-8m6IoYXONW5",
        "outputId": "14f265b9-2269-40b5-bb91-a548b5676b0a"
      },
      "execution_count": 1,
      "outputs": [
        {
          "output_type": "stream",
          "name": "stdout",
          "text": [
            "phewww!!! Dataset collection is complete\n"
          ]
        }
      ]
    },
    {
      "cell_type": "code",
      "source": [],
      "metadata": {
        "id": "ePgx2-X1RLoV"
      },
      "execution_count": null,
      "outputs": []
    }
  ]
}